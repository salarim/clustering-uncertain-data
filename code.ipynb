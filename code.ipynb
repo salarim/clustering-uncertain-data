{
 "cells": [
  {
   "cell_type": "code",
   "execution_count": 1,
   "metadata": {
    "colab": {},
    "colab_type": "code",
    "id": "Re7QwbKdm9Y3"
   },
   "outputs": [],
   "source": [
    "import numpy as np\n",
    "import scipy\n",
    "from sklearn.neighbors import KernelDensity\n",
    "import matplotlib.pyplot as plt\n",
    "import collections\n",
    "from datetime import datetime, timedelta\n",
    "\n",
    "%matplotlib inline\n"
   ]
  },
  {
   "cell_type": "markdown",
   "metadata": {
    "colab_type": "text",
    "id": "S_97JNP6IsJz"
   },
   "source": [
    "# First Try"
   ]
  },
  {
   "cell_type": "code",
   "execution_count": 3,
   "metadata": {
    "colab": {},
    "colab_type": "code",
    "id": "LcbAbKuvnFTa"
   },
   "outputs": [],
   "source": [
    "class Center:\n",
    "\n",
    "  def __init__(self, lambdas, mus, sigmas):\n",
    "    self.lambdas = lambdas\n",
    "    self.mus = mus\n",
    "    self.sigmas = sigmas\n",
    "    self.guassians = [scipy.stats.norm(mu, sigma) for mu, sigma in zip(mus, sigmas)]\n",
    "\n",
    "  def get_prob(self, x_list):\n",
    "    p = np.full(x_list.shape, 0.0)\n",
    "    for i in range(len(self.lambdas)):\n",
    "      for j in range(x_list.shape[0]):\n",
    "        p[j] += self.lambdas[i] * self.guassians[i].pdf(x_list[j])\n",
    "    return p\n",
    "\n",
    "  def mu_gradient(self, x_list, index):\n",
    "    grad = np.full(x_list.shape, 0.0)\n",
    "    for i, x in enumerate(x_list):\n",
    "      grad[i] = self.lambdas[index] * self.guassians[index].pdf(x) * ((x-self.mus[index]) / self.sigmas[index]**2)\n",
    "    return grad\n",
    "\n",
    "  def sigma_gradient(self, x_list, index):\n",
    "    grad = np.full(x_list.shape, 0.0)\n",
    "    for i, x in enumerate(x_list):\n",
    "      grad[i] = self.lambdas[index] * self.guassians[index].pdf(x) * (-1.0 / self.sigmas[index] + ((x-self.mus[index])**2)/(self.sigmas[index]**3))\n",
    "    return grad\n",
    "\n",
    "  def lambda_gradient(self, x_list, index):\n",
    "    grad = np.full(x_list.shape, 0.0)\n",
    "    for i, x in enumerate(x_list):\n",
    "      grad[i] = self.guassians[index].pdf(x)\n",
    "    return grad\n",
    "\n",
    "  def gradient(self, var_name, x_list, index):\n",
    "    if var_name == 'mu':\n",
    "      return self.mu_gradient(x_list, index)\n",
    "    elif var_name == 'sigma':\n",
    "      return self.sigma_gradient(x_list, index)\n",
    "    return self.lambda_gradient(x_list, index)\n",
    "\n",
    "class Point:\n",
    "\n",
    "  def __init__(self, samples, bandwidth=0.2):\n",
    "    self.kde = KernelDensity(bandwidth=bandwidth)\n",
    "    self.kde.fit(samples[:, np.newaxis])\n",
    "\n",
    "  def get_sample(self, size):\n",
    "    return np.asarray(self.kde.sample(size)).reshape(-1)\n",
    "\n",
    "  def get_prob(self, samples):\n",
    "    log_pdf = self.kde.score_samples(samples[:, np.newaxis])\n",
    "    return np.exp(log_pdf)\n",
    "\n",
    "def get_KL(point, center, sample_size=1000):\n",
    "  point_sample = point.get_sample(sample_size)\n",
    "  point_prob = point.get_prob(point_sample)\n",
    "  center_prob = center.get_prob(point_sample)\n",
    "  return np.sum(np.log(point_prob/center_prob)) / sample_size\n",
    "\n",
    "def get_objective_gradient(var_name, points, center, points_center_prob, sample_size=1000):\n",
    "  index_num = center.mus.shape[0]\n",
    "  grads = np.full(index_num, 0.0)\n",
    "  for index in range(index_num):\n",
    "    for i, point in enumerate(points):\n",
    "      point_sample = point.get_sample(sample_size)\n",
    "      grads[index] += np.sum(points_center_prob[i] * (-1.0 * center.gradient(var_name, point_sample, index)) / center.get_prob(point_sample))\n",
    "  return grads\n",
    "\n",
    "def get_objective_function(points, centers, points_centers_prob):\n",
    "  res = 0.0\n",
    "  for i, p in enumerate(points):\n",
    "    for j, c in enumerate(centers):\n",
    "      res += points_centers_prob[i,j] * get_KL(p,c)\n",
    "  return res\n",
    "\n",
    "def gradient_descent(points, centers, points_centers_prob, epoch_num=10, learning_rate=0.01):\n",
    "  for epoch in range(epoch_num):\n",
    "    for i, center in enumerate(centers):\n",
    "      points_center_prob = np.asarray(points_centers_prob[:,i]).reshape(-1)\n",
    "      mu_gradients = get_objective_gradient('mu', points, center, points_center_prob)\n",
    "      sigma_gradients = get_objective_gradient('sigma', points, center, points_center_prob)\n",
    "      lambda_gradients = get_objective_gradient('lambda', points, center, points_center_prob)\n",
    "      center.mus -= learning_rate * mu_gradients\n",
    "      center.sigmas -= learning_rate * sigma_gradients\n",
    "      center.lambdas -= learning_rate * lambda_gradients\n",
    "      center.lambdas = center.lambdas / np.sum(center.lambdas)\n",
    "    print('Epoch: {}, obj func: {}'.format(epoch, get_objective_function(points, centers, points_centers_prob)))\n",
    "\n",
    "def get_points_centers_prob(points, centers):\n",
    "  kls = np.full((points.shape[0], centers.shape[0]), 0.0)\n",
    "  for i, p in enumerate(points):\n",
    "    for j, c in enumerate(centers):\n",
    "      kls[i,j] = get_KL(p, c)\n",
    "    kls[i] = scipy.special.softmax(-1.0 * kls[i])\n",
    "  return kls\n",
    "\n",
    "def EM(points, centers, epoch_num=10):\n",
    "  for epoch in range(epoch_num):\n",
    "    points_centers_prob = get_points_centers_prob(points, centers)\n",
    "    gradient_descent(points, centers, points_centers_prob)"
   ]
  },
  {
   "cell_type": "code",
   "execution_count": 0,
   "metadata": {
    "colab": {},
    "colab_type": "code",
    "id": "dvvcW6ul03rI"
   },
   "outputs": [],
   "source": [
    "# center = Center(np.array([0.5, 0.5]), np.array([0.0, 2.0]), np.array([1.0, 1.0]))\n",
    "center1 = Center(np.array([1.0]), np.array([0.0]), np.array([1.0]))\n",
    "center2 = Center(np.array([1.0]), np.array([2.0]), np.array([1.0]))"
   ]
  },
  {
   "cell_type": "code",
   "execution_count": 0,
   "metadata": {
    "colab": {},
    "colab_type": "code",
    "id": "H-SduAEzXCQD"
   },
   "outputs": [],
   "source": [
    "point1 = Point(np.random.normal(0.0, 1.0, 1000))\n",
    "point2 = Point(np.random.normal(2.0, 1.0, 1000))"
   ]
  },
  {
   "cell_type": "code",
   "execution_count": 0,
   "metadata": {
    "colab": {
     "base_uri": "https://localhost:8080/",
     "height": 72
    },
    "colab_type": "code",
    "id": "hxxuME9cfLrT",
    "outputId": "8d93b1c4-4904-48cf-c56b-e1fd631e88df"
   },
   "outputs": [
    {
     "name": "stdout",
     "output_type": "stream",
     "text": [
      "[[0.87515619 0.12484381]\n",
      " [0.10872009 0.89127991]]\n",
      "[0.87515619 0.10872009]\n"
     ]
    }
   ],
   "source": [
    "ps = get_points_centers_prob(np.array([point1, point2]), np.array([center1, center2]))\n",
    "p = np.asarray(ps[:,0]).reshape(-1)\n",
    "print(ps)\n",
    "print(p)"
   ]
  },
  {
   "cell_type": "code",
   "execution_count": 0,
   "metadata": {
    "colab": {
     "base_uri": "https://localhost:8080/",
     "height": 35
    },
    "colab_type": "code",
    "id": "Fkhq2fTZrnrQ",
    "outputId": "5a88cae9-93d7-4fd0-f534-20960280026b"
   },
   "outputs": [
    {
     "data": {
      "text/plain": [
       "0.4970177030637003"
      ]
     },
     "execution_count": 393,
     "metadata": {
      "tags": []
     },
     "output_type": "execute_result"
    }
   ],
   "source": [
    "get_objective_function(np.array([point1, point2]), np.array([center1, center2]), ps)"
   ]
  },
  {
   "cell_type": "code",
   "execution_count": 0,
   "metadata": {
    "colab": {
     "base_uri": "https://localhost:8080/",
     "height": 53
    },
    "colab_type": "code",
    "id": "vUkuRb1CpfdE",
    "outputId": "a122ab31-9ac0-4b22-8fb0-c136482dc32b"
   },
   "outputs": [
    {
     "name": "stdout",
     "output_type": "stream",
     "text": [
      "-2.970947780039056\n",
      "103.9537410591031\n"
     ]
    }
   ],
   "source": [
    "point1_sample = point1.get_sample(1000)\n",
    "point2_sample = point2.get_sample(1000)\n",
    "print(np.sum(center1.gradient('mu', point1_sample, 0)))\n",
    "print(np.sum(center1.gradient('mu', point2_sample, 0)))"
   ]
  },
  {
   "cell_type": "code",
   "execution_count": 0,
   "metadata": {
    "colab": {
     "base_uri": "https://localhost:8080/",
     "height": 35
    },
    "colab_type": "code",
    "id": "f2G95PvlbToO",
    "outputId": "53e1047b-744e-4fa8-f0d1-95401441ec4f"
   },
   "outputs": [
    {
     "data": {
      "text/plain": [
       "array([-2041.91890469])"
      ]
     },
     "execution_count": 354,
     "metadata": {
      "tags": []
     },
     "output_type": "execute_result"
    }
   ],
   "source": [
    "get_objective_gradient('mu', np.array([point1, point2]), center1, np.array([0.0, 1.0]))"
   ]
  },
  {
   "cell_type": "code",
   "execution_count": 0,
   "metadata": {
    "colab": {
     "base_uri": "https://localhost:8080/",
     "height": 199
    },
    "colab_type": "code",
    "id": "BfsKAmAVkVzS",
    "outputId": "71167712-7a02-4119-cd14-ad83357a9554"
   },
   "outputs": [
    {
     "name": "stdout",
     "output_type": "stream",
     "text": [
      "Epoch: 0, obj func: 0.5039035206661383\n",
      "Epoch: 1, obj func: 0.4826145150589693\n",
      "Epoch: 2, obj func: 0.4849778502996307\n",
      "Epoch: 3, obj func: 0.4957785374289431\n",
      "Epoch: 4, obj func: 0.4880363647592347\n",
      "Epoch: 5, obj func: 0.4755985612000744\n",
      "Epoch: 6, obj func: 0.4894875764219274\n",
      "Epoch: 7, obj func: 0.496419150005675\n",
      "Epoch: 8, obj func: 0.4730099802461569\n",
      "Epoch: 9, obj func: 0.46990842543331085\n"
     ]
    }
   ],
   "source": [
    "gradient_descent(np.array([point1, point2]), np.array([center1, center2]), ps, epoch_num=10)"
   ]
  },
  {
   "cell_type": "code",
   "execution_count": 0,
   "metadata": {
    "colab": {
     "base_uri": "https://localhost:8080/",
     "height": 53
    },
    "colab_type": "code",
    "id": "Ww1sJGEPXFPO",
    "outputId": "03b9bbc8-d884-43f8-bd38-4d08d32ca4be"
   },
   "outputs": [
    {
     "name": "stdout",
     "output_type": "stream",
     "text": [
      "[1.] [0.87395448] [2.66151026]\n",
      "[1.] [0.34620462] [4.49089477]\n"
     ]
    }
   ],
   "source": [
    "print(center1.lambdas, center1.mus, center1.sigmas)\n",
    "print(center2.lambdas, center2.mus, center2.sigmas)"
   ]
  },
  {
   "cell_type": "markdown",
   "metadata": {
    "colab_type": "text",
    "id": "QRyzz0_mI0eo"
   },
   "source": [
    "# Second Try"
   ]
  },
  {
   "cell_type": "code",
   "execution_count": 6,
   "metadata": {
    "colab": {},
    "colab_type": "code",
    "id": "U2fT3IiS2aK0"
   },
   "outputs": [],
   "source": [
    "def fix_array(arr):\n",
    "    if arr.ndim == 1:\n",
    "        return arr[:, np.newaxis]\n",
    "    return arr\n",
    "\n",
    "profile = {'point_init':[],\n",
    "           'point_get_sample':[],\n",
    "           'point_get_prob': [],\n",
    "           'center_init':[],\n",
    "           'center_get_sample':[],\n",
    "           'center_get_prob': [],\n",
    "           'center_update':[],\n",
    "           'get_KL':[],\n",
    "           'get_points_centers_prob':[],\n",
    "           'get_objective_function':[]\n",
    "           }\n",
    "\n",
    "class Point:\n",
    "\n",
    "    def __init__(self, samples, bandwidth=0.2):\n",
    "        start = datetime.now()\n",
    "        self.kde = KernelDensity(bandwidth=bandwidth)\n",
    "        self.kde.fit(fix_array(samples))\n",
    "        self.last_sample_prob = (None, -1.0)\n",
    "        profile['point_init'].append(datetime.now()-start)\n",
    "\n",
    "    def get_sample(self, size):\n",
    "        start = datetime.now()\n",
    "        sample = np.asarray(self.kde.sample(size))\n",
    "        profile['point_get_sample'].append(datetime.now()-start)\n",
    "        return sample\n",
    "\n",
    "    def get_prob(self, samples):\n",
    "        start = datetime.now()\n",
    "        if np.array_equal(samples, self.last_sample_prob[0]):\n",
    "            profile['point_get_prob'].append(datetime.now()-start)\n",
    "            return self.last_sample_prob[1]\n",
    "        log_pdf = self.kde.score_samples(fix_array(samples))\n",
    "        prob = np.exp(log_pdf)\n",
    "        self.last_sample_prob = (samples, prob)\n",
    "        profile['point_get_prob'].append(datetime.now()-start)\n",
    "        return prob\n",
    "\n",
    "class Center:\n",
    "\n",
    "    def __init__(self, points=None, points_center_prob=None, bandwidth=0.2):\n",
    "        start = datetime.now()\n",
    "        if points is not None:\n",
    "            self.points = points\n",
    "            self.points_center_prob = points_center_prob\n",
    "        profile['center_init'].append(datetime.now()-start)\n",
    "\n",
    "    def update(self, points, points_center_prob):\n",
    "        start = datetime.now()\n",
    "        self.points = points\n",
    "        self.points_center_prob = points_center_prob\n",
    "        profile['center_update'].append(datetime.now()-start)\n",
    "    \n",
    "  \n",
    "    def get_sample(self, size):\n",
    "        start = datetime.now()\n",
    "        s = np.random.choice(range(len(self.points)), size=size, p=self.points_center_prob)\n",
    "        counts = collections.Counter(s)\n",
    "        samples = np.empty(self.points[0].get_sample(1).shape)\n",
    "        for i in range(len(self.points)):\n",
    "            if counts[i]>0:\n",
    "                new_samples = self.points[i].get_sample(counts[i])\n",
    "                samples = np.append(samples, new_samples, axis=0)\n",
    "        profile['center_get_sample'].append(datetime.now()-start)\n",
    "        return samples\n",
    "\n",
    "    def get_prob(self, samples):\n",
    "        start = datetime.now()\n",
    "        prob = np.zeros(samples.shape[0])\n",
    "        for i, p in enumerate(self.points):\n",
    "            prob += (self.points_center_prob[i] * p.get_prob(samples))\n",
    "        profile['center_get_prob'].append(datetime.now()-start)\n",
    "        return prob\n",
    "\n",
    "lower_bound, upper_bound = 10**-15, 10**5\n",
    "\n",
    "def get_KL(point, center, sample_size=100):\n",
    "    start = datetime.now()\n",
    "    point_sample = point.get_sample(sample_size)\n",
    "    # print(center.get_sample(2).shape)\n",
    "    point_prob = point.get_prob(point_sample)\n",
    "    center_prob = center.get_prob(point_sample)\n",
    "    point_prob = np.clip(point_prob, lower_bound, upper_bound)\n",
    "    center_prob = np.clip(center_prob, lower_bound, upper_bound)\n",
    "    result = np.sum(np.log(point_prob/center_prob)) / sample_size\n",
    "    profile['get_KL'].append(datetime.now()-start)\n",
    "    return result\n",
    "\n",
    "def get_points_centers_prob(points, centers, coef=-10.0):\n",
    "    start = datetime.now()\n",
    "    kls = np.full((len(points), len(centers)), 0.0)\n",
    "    for i, p in enumerate(points):\n",
    "        for j, c in enumerate(centers):\n",
    "            kls[i,j] = get_KL(p, c)\n",
    "    kls[i] = coef*kls[i]\n",
    "    kls[i] = scipy.special.softmax(kls[i])\n",
    "    profile['get_points_centers_prob'].append(datetime.now()-start)\n",
    "    return kls\n",
    "\n",
    "def get_objective_function(points, centers, points_centers_prob):\n",
    "    start = datetime.now()\n",
    "    res = 0.0\n",
    "    for i, p in enumerate(points):\n",
    "        for j, c in enumerate(centers):\n",
    "            kl = get_KL(p,c)\n",
    "            res += points_centers_prob[i,j] * kl\n",
    "    profile['get_objective_function'].append(datetime.now()-start)\n",
    "    return res\n",
    "\n",
    "def get_precision_recall(ps):\n",
    "    generated_clusters = np.zeros((ps.shape[0]))\n",
    "    for i in range(ps.shape[0]):\n",
    "        generated_clusters[i] = np.argmax(ps[i])+1\n",
    "\n",
    "    tp, fn, fp, tn = 0,0,0,0\n",
    "    for i in range(len(points)):\n",
    "        for j in range(i+1,len(points)):\n",
    "            if true_clusters[i] == true_clusters[j] and generated_clusters[i] == generated_clusters[j]:\n",
    "                tp += 1\n",
    "            if true_clusters[i] != true_clusters[j] and generated_clusters[i] == generated_clusters[j]:\n",
    "                fp += 1\n",
    "            if true_clusters[i] == true_clusters[j] and generated_clusters[i] != generated_clusters[j]:\n",
    "                fn += 1\n",
    "            if true_clusters[i] != true_clusters[j] and generated_clusters[i] != generated_clusters[j]:\n",
    "                tn += 1\n",
    "    precision = (float)(tp) / (tp + fp)\n",
    "    recall = (float)(tp) / (tp + fn)\n",
    "    acc = (float)(tp+tn)/(tp+tn+fp+fn)\n",
    "    return precision, recall, acc\n",
    "\n",
    "def get_convergence(ps, pre_ps):\n",
    "    diff = np.abs(ps - pre_ps)\n",
    "    np.min(diff)\n",
    "    return np.min(diff)"
   ]
  },
  {
   "cell_type": "code",
   "execution_count": 6,
   "metadata": {
    "colab": {},
    "colab_type": "code",
    "id": "puT1u7CYlPyX"
   },
   "outputs": [],
   "source": [
    "mean = [0, 0]\n",
    "cov = [[1, 0], [0, 1]]\n",
    "p1 = Point(np.random.multivariate_normal(mean, cov, 100))\n",
    "p2 = Point(np.random.multivariate_normal(mean, cov, 100))\n",
    "p3 = Point(np.random.multivariate_normal(mean, cov, 100))\n",
    "points = [p1,p2,p3]\n",
    "centers_size = 1"
   ]
  },
  {
   "cell_type": "code",
   "execution_count": 7,
   "metadata": {
    "colab": {},
    "colab_type": "code",
    "id": "gcTY1KkMXofA"
   },
   "outputs": [],
   "source": [
    "point1 = Point(np.append(np.random.normal(0.0, 1.0, 500), np.random.normal(10.0, 1.0, 500)))\n",
    "point2 = Point(np.random.normal(5.0, 1.0, 1000))\n",
    "point3 = Point(np.random.normal(5.0, 1.0, 1000))\n",
    "point4 = Point(np.append(np.append(np.random.normal(0.0, 1.0, 300), np.random.normal(5.0, 1.0, 300)), np.random.normal(10.0, 1.0, 300)))\n",
    "points = [point1, point2, point3, point4]\n",
    "centers_size = 3\n",
    "true_clusters = np.array([0,1,1,2])"
   ]
  },
  {
   "cell_type": "code",
   "execution_count": 8,
   "metadata": {
    "colab": {
     "base_uri": "https://localhost:8080/",
     "height": 763
    },
    "colab_type": "code",
    "id": "5nYJlC7TeYih",
    "outputId": "31985f8c-b9a7-45c1-95fd-64d83bb73630"
   },
   "outputs": [
    {
     "data": {
      "image/png": "[encoded data removed]",
      "text/plain": [
       "<Figure size 432x288 with 1 Axes>"
      ]
     },
     "metadata": {
      "needs_background": "light"
     },
     "output_type": "display_data"
    },
    {
     "data": {
      "image/png": "[encoded data removed]",
      "text/plain": [
       "<Figure size 432x288 with 1 Axes>"
      ]
     },
     "metadata": {
      "needs_background": "light"
     },
     "output_type": "display_data"
    },
    {
     "data": {
      "image/png": "[encoded data removed]",
      "text/plain": [
       "<Figure size 432x288 with 1 Axes>"
      ]
     },
     "metadata": {
      "needs_background": "light"
     },
     "output_type": "display_data"
    }
   ],
   "source": [
    "for p in [point1, point2, point4]:\n",
    "    plt.hist(p.get_sample(1000), bins=30)\n",
    "    plt.show()"
   ]
  },
  {
   "cell_type": "code",
   "execution_count": 7,
   "metadata": {
    "colab": {},
    "colab_type": "code",
    "id": "MaEm0mQyBiOt"
   },
   "outputs": [],
   "source": [
    "points = []\n",
    "for raw_point in raw_points[:10]:\n",
    "    points.append(Point(raw_point))\n",
    "centers_size = 5"
   ]
  },
  {
   "cell_type": "code",
   "execution_count": 8,
   "metadata": {},
   "outputs": [
    {
     "data": {
      "text/plain": [
       "10"
      ]
     },
     "execution_count": 8,
     "metadata": {},
     "output_type": "execute_result"
    }
   ],
   "source": [
    "len(points)"
   ]
  },
  {
   "cell_type": "code",
   "execution_count": 9,
   "metadata": {
    "colab": {
     "base_uri": "https://localhost:8080/",
     "height": 35
    },
    "colab_type": "code",
    "id": "9PPPRC0HQiuq",
    "outputId": "93cfd621-31c0-45c8-89fc-6c3d262ce5d1"
   },
   "outputs": [
    {
     "name": "stdout",
     "output_type": "stream",
     "text": [
      "Find first initial center\n"
     ]
    }
   ],
   "source": [
    "initial_centers = []\n",
    "\n",
    "best_center_ind = 0\n",
    "best_kl = sum([get_KL(p, points[0]) for p in points])\n",
    "remained_centers = list(range(len(points)))\n",
    "print('Find first initial center')\n",
    "for i in range(1, len(points)):\n",
    "    # print(i)\n",
    "    new_kl = sum([get_KL(p, points[i]) for p in points])\n",
    "    if new_kl < best_kl:\n",
    "        best_kl = new_kl\n",
    "        best_center_ind = i\n",
    "initial_centers.append(Center(points=[points[best_center_ind]], points_center_prob=np.array([1.0])))\n",
    "remained_centers.remove(best_center_ind)"
   ]
  },
  {
   "cell_type": "code",
   "execution_count": 10,
   "metadata": {
    "colab": {
     "base_uri": "https://localhost:8080/",
     "height": 108
    },
    "colab_type": "code",
    "id": "nGX-2ZpZXqeW",
    "outputId": "f0c485f8-5e44-4e43-f49c-c1db29f7c59c"
   },
   "outputs": [
    {
     "name": "stdout",
     "output_type": "stream",
     "text": [
      "Find other initial centers\n",
      "find 1th center\n",
      "find 2th center\n",
      "find 3th center\n",
      "find 4th center\n"
     ]
    }
   ],
   "source": [
    "print('Find other initial centers')\n",
    "for i in range(1, centers_size):\n",
    "    print('find ' + str(i) + 'th center')\n",
    "    best_center_ind = -1\n",
    "    best_kl = np.float('inf')\n",
    "    for ind in remained_centers:\n",
    "        # print('try point:', ind)\n",
    "        new_centers = initial_centers + [points[ind]]\n",
    "        ps = get_points_centers_prob(points, new_centers)\n",
    "        # print(i,ind, ps)\n",
    "        new_kl = get_objective_function(points, new_centers, ps)\n",
    "        if new_kl < best_kl:\n",
    "            best_kl = new_kl\n",
    "            best_center_ind = ind\n",
    "    initial_centers.append(Center(points=[points[best_center_ind]], points_center_prob=np.array([1.0])))\n",
    "    remained_centers.remove(best_center_ind)\n",
    "centers = initial_centers\n",
    "\n",
    "if initial_centers[0].get_sample(1).shape[1] <= 2:\n",
    "    for i, c in enumerate(initial_centers):\n",
    "        c_samples = c.get_sample(1000)\n",
    "        if c_samples.shape[1] == 1:\n",
    "            plt.hist(c_samples[:,0], bins=30)\n",
    "        elif c_samples.shape[1] == 2:\n",
    "            plt.scatter(c_samples[:,0],c_samples[:,1])\n",
    "    plt.title('Center:' + str(i+1))\n",
    "    plt.show()\n"
   ]
  },
  {
   "cell_type": "code",
   "execution_count": 11,
   "metadata": {
    "colab": {
     "base_uri": "https://localhost:8080/",
     "height": 1000
    },
    "colab_type": "code",
    "id": "fWPJS7EbR9bZ",
    "outputId": "732e8ece-c17d-4614-b545-3034cfa918d3"
   },
   "outputs": [
    {
     "name": "stdout",
     "output_type": "stream",
     "text": [
      "Iter: 1, Obj: 87.90016167911493,new probs: [[8.04591972e-01 4.80903441e-01 6.24227717e-01 3.52055958e-01\n",
      "  2.11157717e+00]\n",
      " [8.65854299e-01 2.42356984e+00 1.76349582e+00 2.55218970e+00\n",
      "  4.40050601e-01]\n",
      " [8.15748390e-01 1.89618355e+00 1.40754627e+00 2.29023208e+00\n",
      "  2.91176393e-01]\n",
      " [9.14980399e-01 5.49721566e-01 5.82295919e-01 4.20357641e-01\n",
      "  2.46502796e+00]\n",
      " [8.75176552e-01 4.66502562e-01 4.26685995e-01 4.42233969e-01\n",
      "  1.86637199e+00]\n",
      " [1.17103273e+00 2.33148571e+00 1.92002719e+00 2.68114150e+00\n",
      "  7.31671189e-01]\n",
      " [1.25490622e+00 1.82260078e+00 1.72981755e+00 1.77863082e+00\n",
      "  1.10487286e+00]\n",
      " [8.93712953e-01 1.23445333e+00 8.99839523e-01 1.18682057e+00\n",
      "  5.44759252e-01]\n",
      " [8.93111296e-01 4.88091222e-01 5.67464009e-01 5.95847229e-01\n",
      "  1.95940283e+00]\n",
      " [3.32032847e-03 2.36182515e-02 3.46646971e-01 6.26413379e-01\n",
      "  1.06904143e-06]]\n",
      "########################\n",
      "Iter: 2, Obj: 58.46510974907208,new probs: [[1.08845848e+00 1.63038173e+00 1.57230642e+00 1.88635037e+00\n",
      "  6.25459418e-01]\n",
      " [7.95875507e-01 4.46827716e-01 5.26458032e-01 4.82239307e-01\n",
      "  1.48981599e+00]\n",
      " [7.23787991e-01 3.18596167e-01 3.97479396e-01 3.98571051e-01\n",
      "  1.42675225e+00]\n",
      " [7.83613132e-01 1.70273481e+00 1.25144775e+00 1.61975111e+00\n",
      "  5.26015109e-01]\n",
      " [9.02620356e-01 1.51660187e+00 1.46171474e+00 1.51154265e+00\n",
      "  5.45620590e-01]\n",
      " [1.47969336e+00 1.01330428e+00 1.23553677e+00 1.05509999e+00\n",
      "  2.19539492e+00]\n",
      " [8.60007867e-01 9.23746609e-01 9.21711467e-01 8.44471558e-01\n",
      "  1.37741849e+00]\n",
      " [5.63079664e-01 5.53910451e-01 6.89136687e-01 6.45936297e-01\n",
      "  7.88861574e-01]\n",
      " [1.02966918e+00 1.66076093e+00 1.25619447e+00 1.58329629e+00\n",
      "  4.72001808e-01]\n",
      " [6.00042722e-04 6.22072127e-06 2.14921229e-03 5.89508340e-03\n",
      "  9.91349441e-01]]\n",
      "########################\n",
      "Iter: 3, Obj: 48.49375008613507,new probs: [[1.03574098e+00 6.29993721e-01 7.49549829e-01 7.19724755e-01\n",
      "  1.19197832e+00]\n",
      " [9.11434312e-01 1.46892639e+00 1.15606711e+00 1.26661680e+00\n",
      "  6.49453387e-01]\n",
      " [7.14595239e-01 1.15144022e+00 9.97859413e-01 1.14620727e+00\n",
      "  5.09222258e-01]\n",
      " [8.81324193e-01 7.68864555e-01 6.48859088e-01 7.36606311e-01\n",
      "  1.23574621e+00]\n",
      " [8.26333002e-01 5.17946490e-01 5.91165791e-01 6.31144807e-01\n",
      "  1.31140380e+00]\n",
      " [1.24059322e+00 1.88258009e+00 1.56870362e+00 1.77242269e+00\n",
      "  1.04702238e+00]\n",
      " [1.08990789e+00 1.21682073e+00 1.07855034e+00 1.41829244e+00\n",
      "  8.72500484e-01]\n",
      " [5.12244243e-01 8.91455877e-01 6.59614386e-01 7.63968669e-01\n",
      "  5.85551690e-01]\n",
      " [8.00966751e-01 5.93874136e-01 6.45899351e-01 6.85905556e-01\n",
      "  1.15064410e+00]\n",
      " [4.70480288e-02 9.27690333e-01 6.78059684e-03 8.53163896e-04\n",
      "  1.76278776e-02]]\n",
      "########################\n",
      "Iter: 4, Obj: 44.95525485460169,new probs: [[1.01440405e+00 1.29358297e+00 1.36660842e+00 1.38545760e+00\n",
      "  8.31762825e-01]\n",
      " [1.02715987e+00 7.32563272e-01 6.50130813e-01 4.63204870e-01\n",
      "  1.16928352e+00]\n",
      " [6.90962730e-01 6.64125237e-01 5.02648219e-01 5.64635725e-01\n",
      "  8.86684219e-01]\n",
      " [7.76424708e-01 1.10704168e+00 1.11901003e+00 1.11056965e+00\n",
      "  7.70035312e-01]\n",
      " [9.36802899e-01 1.04863542e+00 1.23817953e+00 1.08565741e+00\n",
      "  6.86087349e-01]\n",
      " [1.34874328e+00 1.13347306e+00 1.06779397e+00 1.18697754e+00\n",
      "  1.58127562e+00]\n",
      " [8.97937228e-01 1.08962027e+00 9.10434739e-01 7.63554391e-01\n",
      "  1.14513131e+00]\n",
      " [5.43371893e-01 5.84558624e-01 3.98736972e-01 4.85789276e-01\n",
      "  6.94850433e-01]\n",
      " [9.83567084e-01 9.87977507e-01 1.29133052e+00 1.22031034e+00\n",
      "  8.54767264e-01]\n",
      " [1.84919711e-02 9.33604148e-01 2.07663578e-03 7.21220385e-05\n",
      "  4.57551229e-02]]\n",
      "########################\n",
      "Iter: 5, Obj: 43.67927581343668,new probs: [[9.60066326e-01 7.86728834e-01 8.59319293e-01 6.57203854e-01\n",
      "  1.14671402e+00]\n",
      " [6.88587034e-01 9.58020406e-01 1.32355273e+00 1.25525906e+00\n",
      "  8.10790796e-01]\n",
      " [7.73529621e-01 8.22538039e-01 9.76817883e-01 9.00770624e-01\n",
      "  4.94681520e-01]\n",
      " [9.25007398e-01 9.21905618e-01 6.42197259e-01 7.07322494e-01\n",
      "  1.20155860e+00]\n",
      " [1.01287275e+00 6.14324013e-01 7.25506380e-01 7.20720775e-01\n",
      "  9.63579698e-01]\n",
      " [1.37991679e+00 1.44306305e+00 1.55669745e+00 1.53494876e+00\n",
      "  1.14806340e+00]\n",
      " [1.10744068e+00 1.01861132e+00 1.10579551e+00 1.15923755e+00\n",
      "  1.00650751e+00]\n",
      " [6.44379858e-01 6.53323661e-01 7.27573941e-01 7.10544224e-01\n",
      "  5.44811737e-01]\n",
      " [8.60512973e-01 7.96876954e-01 7.24002661e-01 8.96247978e-01\n",
      "  1.22400824e+00]\n",
      " [2.54439476e-04 8.66898281e-01 1.29950734e-01 9.78716586e-04\n",
      "  1.91782854e-03]]\n",
      "########################\n",
      "Iter: 6, Obj: 42.86776892006663,new probs: [[9.62613440e-01 1.04793735e+00 1.07253489e+00 1.12129282e+00\n",
      "  8.50532177e-01]\n",
      " [9.88078063e-01 9.58547582e-01 6.39531964e-01 7.53744207e-01\n",
      "  1.04958191e+00]\n",
      " [8.52063457e-01 6.46442647e-01 6.75178741e-01 5.75940093e-01\n",
      "  8.35483917e-01]\n",
      " [7.48882137e-01 9.16036365e-01 1.26246417e+00 1.10960475e+00\n",
      "  8.56448068e-01]\n",
      " [8.28176113e-01 1.03523920e+00 1.07679240e+00 1.10993331e+00\n",
      "  8.79572686e-01]\n",
      " [1.36735373e+00 1.36839617e+00 1.16442684e+00 1.14641471e+00\n",
      "  1.58612042e+00]\n",
      " [9.78805839e-01 1.04888653e+00 1.09600795e+00 9.01452366e-01\n",
      "  1.11752679e+00]\n",
      " [6.14793513e-01 6.22319009e-01 5.20951075e-01 4.77926566e-01\n",
      "  5.80658128e-01]\n",
      " [8.65192296e-01 8.13135837e-01 1.18747908e+00 9.58524573e-01\n",
      "  7.08435924e-01]\n",
      " [6.46752547e-03 8.89801565e-01 4.52507215e-03 3.00892455e-04\n",
      "  9.89049453e-02]]\n",
      "########################\n",
      "Iter: 7, Obj: 42.44077439341969,new probs: [[0.99255473 0.90674974 0.9101094  0.80264124 1.03599393]\n",
      " [0.7764498  0.91443513 0.98349919 1.08291625 0.82015076]\n",
      " [0.5227485  0.9018534  0.87391404 0.83367381 0.63525399]\n",
      " [1.00327886 0.97288652 0.94245301 1.03975781 0.90104374]\n",
      " [1.02545562 0.85343732 0.79881388 0.83545971 0.94544723]\n",
      " [1.39859508 1.3405562  1.4975167  1.39204808 1.13674398]\n",
      " [0.93008611 1.08170255 1.00071816 1.09364529 0.90214293]\n",
      " [0.6322639  0.77158439 0.60674436 0.74798828 0.56342759]\n",
      " [0.96871737 0.89353147 0.79803418 0.92517053 1.24518169]\n",
      " [0.00179281 0.95339251 0.03403169 0.00516937 0.00561362]]\n",
      "########################\n",
      "Iter: 8, Obj: 42.04802441739642,new probs: [[8.79753046e-01 9.64931491e-01 1.05718893e+00 1.16836644e+00\n",
      "  9.62430698e-01]\n",
      " [9.49206249e-01 8.52495855e-01 7.51815284e-01 8.60426561e-01\n",
      "  9.25455317e-01]\n",
      " [9.68639895e-01 6.91318695e-01 6.07187858e-01 7.25125418e-01\n",
      "  8.35743997e-01]\n",
      " [8.42572507e-01 8.58436500e-01 9.80783219e-01 8.33130093e-01\n",
      "  9.55050716e-01]\n",
      " [8.93863814e-01 8.62993211e-01 9.94678898e-01 9.85827417e-01\n",
      "  8.61492762e-01]\n",
      " [1.19373525e+00 1.38789746e+00 1.14692992e+00 1.16686218e+00\n",
      "  1.54416327e+00]\n",
      " [1.16564611e+00 1.03845800e+00 1.15875557e+00 1.01997301e+00\n",
      "  8.90739496e-01]\n",
      " [6.21195738e-01 6.86235480e-01 5.77394797e-01 5.84369881e-01\n",
      "  7.22542028e-01]\n",
      " [8.17730294e-01 7.91430528e-01 9.31139416e-01 8.84985429e-01\n",
      "  7.48737773e-01]\n",
      " [8.07298865e-04 9.65995060e-01 5.94800118e-04 2.02024891e-03\n",
      "  3.05825920e-02]]\n",
      "########################\n",
      "Iter: 9, Obj: 42.76853392488598,new probs: [[9.70491480e-01 9.37217714e-01 8.80205733e-01 8.62263463e-01\n",
      "  1.03096537e+00]\n",
      " [6.14067614e-01 1.07533711e+00 9.84215562e-01 9.03371759e-01\n",
      "  8.31252622e-01]\n",
      " [7.35257203e-01 8.11513166e-01 7.37131465e-01 7.56322911e-01\n",
      "  8.09674914e-01]\n",
      " [1.05563974e+00 8.82343790e-01 8.12964899e-01 1.02319566e+00\n",
      "  8.52665131e-01]\n",
      " [9.08120983e-01 7.74366672e-01 8.53072158e-01 9.84962791e-01\n",
      "  1.04418352e+00]\n",
      " [1.29023720e+00 1.38008702e+00 1.46439027e+00 1.54251322e+00\n",
      "  1.30407690e+00]\n",
      " [1.03946703e+00 1.25313622e+00 1.16819691e+00 1.22983691e+00\n",
      "  1.02467317e+00]\n",
      " [5.09860839e-01 6.25504708e-01 5.59446283e-01 6.73633786e-01\n",
      "  5.20938610e-01]\n",
      " [8.83948764e-01 8.16389288e-01 7.79117699e-01 8.20103467e-01\n",
      "  1.07562714e+00]\n",
      " [4.05813209e-03 9.94169093e-01 4.85017210e-04 5.93869881e-04\n",
      "  6.93887721e-04]]\n",
      "########################\n",
      "Iter: 10, Obj: 41.74816384877665,new probs: [[8.85328502e-01 9.03272563e-01 1.09513083e+00 9.22803949e-01\n",
      "  9.02314495e-01]\n",
      " [9.70328441e-01 8.92523780e-01 7.84618487e-01 1.00323682e+00\n",
      "  7.66685675e-01]\n",
      " [8.78289862e-01 8.49528107e-01 5.84494859e-01 6.70086464e-01\n",
      "  8.01349277e-01]\n",
      " [8.06437992e-01 8.02981796e-01 9.43576524e-01 7.77781535e-01\n",
      "  9.05618917e-01]\n",
      " [9.15715934e-01 8.98843604e-01 9.28881400e-01 1.00284622e+00\n",
      "  9.54708113e-01]\n",
      " [1.40416715e+00 1.53330304e+00 1.34897728e+00 1.38585086e+00\n",
      "  1.19176260e+00]\n",
      " [1.07433639e+00 8.82601263e-01 9.52018620e-01 8.86513976e-01\n",
      "  1.09087342e+00]\n",
      " [5.80947545e-01 5.05803268e-01 4.87491299e-01 5.32537803e-01\n",
      "  6.05661863e-01]\n",
      " [9.26441326e-01 7.86351049e-01 1.02134436e+00 9.93525548e-01\n",
      "  9.81426880e-01]\n",
      " [1.23548400e-02 9.69811622e-01 7.14647261e-04 4.82724100e-04\n",
      "  1.66361668e-02]]\n",
      "########################\n"
     ]
    },
    {
     "name": "stdout",
     "output_type": "stream",
     "text": [
      "Iter: 11, Obj: 41.50623636725968,new probs: [[8.92089401e-01 9.65995316e-01 9.22705088e-01 9.86645811e-01\n",
      "  8.87189734e-01]\n",
      " [7.71540715e-01 1.03706445e+00 8.37767299e-01 6.81800818e-01\n",
      "  9.10343507e-01]\n",
      " [7.82886523e-01 9.02902601e-01 8.78490719e-01 6.70320721e-01\n",
      "  9.29175012e-01]\n",
      " [1.07307370e+00 1.01375376e+00 8.14615959e-01 8.11100073e-01\n",
      "  9.37678495e-01]\n",
      " [1.01859378e+00 8.88846117e-01 8.97918301e-01 8.46134656e-01\n",
      "  9.38334447e-01]\n",
      " [1.32933389e+00 1.32146038e+00 1.28952009e+00 1.26085999e+00\n",
      "  1.41338084e+00]\n",
      " [1.06459422e+00 1.22534298e+00 1.20745990e+00 9.83766980e-01\n",
      "  1.21225011e+00]\n",
      " [6.55887135e-01 7.29102090e-01 6.56802235e-01 6.66441098e-01\n",
      "  4.93024333e-01]\n",
      " [1.09200723e+00 7.37821981e-01 9.28383561e-01 7.59473713e-01\n",
      "  8.04968412e-01]\n",
      " [1.50694449e-03 9.72671436e-01 2.21550096e-02 2.55926802e-03\n",
      "  1.10734196e-03]]\n",
      "########################\n",
      "Iter: 12, Obj: 41.63817814314687,new probs: [[8.95888392e-01 8.94831632e-01 9.21501555e-01 8.68315773e-01\n",
      "  1.08140288e+00]\n",
      " [7.03523794e-01 8.42325094e-01 7.81410086e-01 8.80283801e-01\n",
      "  8.53760647e-01]\n",
      " [7.52337385e-01 6.10305816e-01 7.62225918e-01 8.10339857e-01\n",
      "  6.38044246e-01]\n",
      " [8.75648202e-01 9.09932617e-01 1.11469459e+00 9.12121858e-01\n",
      "  9.56698937e-01]\n",
      " [7.32082193e-01 9.33031165e-01 8.18262222e-01 8.67060415e-01\n",
      "  8.59966702e-01]\n",
      " [1.31969072e+00 1.33216261e+00 1.35078155e+00 1.23961578e+00\n",
      "  1.31365568e+00]\n",
      " [1.03756406e+00 1.14526364e+00 9.50684219e-01 1.09991063e+00\n",
      "  9.12267852e-01]\n",
      " [4.82558252e-01 6.64532361e-01 6.91558635e-01 6.15654735e-01\n",
      "  5.41617767e-01]\n",
      " [8.89362215e-01 9.27314456e-01 9.55793698e-01 9.76872441e-01\n",
      "  1.00401856e+00]\n",
      " [9.87503533e-03 9.81475087e-01 8.11598384e-03 4.01603878e-04\n",
      "  1.32290152e-04]]\n",
      "########################\n",
      "Iter: 13, Obj: 42.276604660523276,new probs: [[9.96487250e-01 1.08396423e+00 9.59896176e-01 8.63325349e-01\n",
      "  9.32598043e-01]\n",
      " [7.40748138e-01 1.07772453e+00 8.25775138e-01 8.38572074e-01\n",
      "  1.12271147e+00]\n",
      " [8.18082207e-01 8.93688240e-01 7.14370021e-01 5.95885886e-01\n",
      "  8.83168062e-01]\n",
      " [9.67277152e-01 8.35370058e-01 7.69447084e-01 9.58584173e-01\n",
      "  1.06252163e+00]\n",
      " [8.56381654e-01 8.13742622e-01 9.22472581e-01 8.62206094e-01\n",
      "  8.12937411e-01]\n",
      " [1.33414590e+00 1.44071576e+00 1.42458223e+00 1.33827341e+00\n",
      "  1.37270060e+00]\n",
      " [9.31503689e-01 1.19012497e+00 9.96438089e-01 1.01429425e+00\n",
      "  1.16128968e+00]\n",
      " [5.85560599e-01 6.77957528e-01 5.28742094e-01 5.61533214e-01\n",
      "  4.76367570e-01]\n",
      " [9.11763648e-01 8.31415457e-01 1.01919870e+00 7.21548165e-01\n",
      "  7.94630125e-01]\n",
      " [1.70428709e-04 9.98762183e-01 2.03267198e-05 8.49236613e-05\n",
      "  9.62137411e-04]]\n",
      "########################\n",
      "Iter: 14, Obj: 41.74032527919759,new probs: [[8.52927902e-01 9.64268489e-01 1.03689686e+00 9.48410019e-01\n",
      "  9.78044501e-01]\n",
      " [1.00782454e+00 9.74882966e-01 8.86015301e-01 1.03378643e+00\n",
      "  6.83214012e-01]\n",
      " [7.85210239e-01 8.25034126e-01 7.73667189e-01 6.20302212e-01\n",
      "  7.04122711e-01]\n",
      " [1.00776014e+00 7.84758087e-01 9.27566723e-01 8.62649279e-01\n",
      "  9.13705692e-01]\n",
      " [9.58224701e-01 8.67668455e-01 9.16232712e-01 9.79975312e-01\n",
      "  9.91404480e-01]\n",
      " [1.21363127e+00 1.46182880e+00 1.21762872e+00 1.22399564e+00\n",
      "  1.07697935e+00]\n",
      " [1.22113287e+00 1.13178502e+00 1.07397093e+00 1.06631244e+00\n",
      "  1.00670341e+00]\n",
      " [4.84974041e-01 6.11949016e-01 5.67018102e-01 4.76334158e-01\n",
      "  6.36834478e-01]\n",
      " [1.01518630e+00 9.91254035e-01 8.33514951e-01 1.00766315e+00\n",
      "  8.11791230e-01]\n",
      " [9.73338519e-03 9.84230682e-01 2.39475076e-03 3.23424416e-03\n",
      "  4.06937892e-04]]\n",
      "########################\n",
      "Iter: 15, Obj: 41.96602638462512,new probs: [[1.03915642e+00 9.08459907e-01 9.20579880e-01 8.87160312e-01\n",
      "  9.62996036e-01]\n",
      " [9.06151518e-01 9.83904296e-01 9.67020131e-01 8.14710410e-01\n",
      "  9.26765642e-01]\n",
      " [7.70504623e-01 8.11382215e-01 7.28486849e-01 6.66980167e-01\n",
      "  9.19512225e-01]\n",
      " [1.03179230e+00 1.01236600e+00 8.86326690e-01 8.61844666e-01\n",
      "  8.31298273e-01]\n",
      " [9.02510613e-01 7.92621088e-01 8.59134380e-01 8.25064776e-01\n",
      "  8.36239660e-01]\n",
      " [1.36104037e+00 1.37417649e+00 1.40326905e+00 1.33603817e+00\n",
      "  1.35736584e+00]\n",
      " [8.95409763e-01 9.70938568e-01 9.43916004e-01 9.95086578e-01\n",
      "  9.40246526e-01]\n",
      " [5.51987383e-01 6.84098892e-01 5.31797252e-01 5.12218054e-01\n",
      "  6.50506971e-01]\n",
      " [9.42031348e-01 8.30613056e-01 1.08936040e+00 7.84163445e-01\n",
      "  1.00262748e+00]\n",
      " [6.44679262e-04 9.98166547e-01 3.33865542e-04 1.17081595e-04\n",
      "  7.37826120e-04]]\n",
      "########################\n",
      "Iter: 16, Obj: 41.4333713316484,new probs: [[9.89013150e-01 9.67794397e-01 8.55148668e-01 1.01465406e+00\n",
      "  9.38337039e-01]\n",
      " [8.41989778e-01 9.66700755e-01 9.16692317e-01 9.15447719e-01\n",
      "  8.77584190e-01]\n",
      " [7.21541326e-01 8.98419163e-01 6.73346689e-01 6.91490452e-01\n",
      "  5.83618404e-01]\n",
      " [8.97398536e-01 8.93680993e-01 8.56277082e-01 9.00291034e-01\n",
      "  1.02284229e+00]\n",
      " [9.60801554e-01 8.49755940e-01 9.98723186e-01 9.59600503e-01\n",
      "  9.67331946e-01]\n",
      " [1.44573473e+00 1.37205084e+00 1.25564652e+00 1.23192855e+00\n",
      "  1.39787818e+00]\n",
      " [1.08191590e+00 1.21444072e+00 8.92580635e-01 9.98380424e-01\n",
      "  1.03379531e+00]\n",
      " [6.93408014e-01 6.63761072e-01 5.97639180e-01 5.07529439e-01\n",
      "  6.16802119e-01]\n",
      " [8.78464026e-01 7.43697376e-01 9.83276252e-01 9.01380613e-01\n",
      "  9.08843888e-01]\n",
      " [1.79748345e-04 9.96398255e-01 7.48138059e-04 1.94381377e-04\n",
      "  2.47947679e-03]]\n",
      "########################\n",
      "Iter: 17, Obj: 43.200220375654006,new probs: [[9.89928977e-01 1.01219349e+00 9.74386953e-01 1.03090754e+00\n",
      "  8.60256905e-01]\n",
      " [8.62356848e-01 9.54647420e-01 8.16366593e-01 9.25197098e-01\n",
      "  9.05294481e-01]\n",
      " [7.69869111e-01 7.88423020e-01 7.72499884e-01 8.32710157e-01\n",
      "  7.50430052e-01]\n",
      " [9.49456510e-01 9.46703344e-01 9.26144939e-01 1.04692946e+00\n",
      "  8.40928078e-01]\n",
      " [9.15364535e-01 9.06096113e-01 8.41150771e-01 8.24370058e-01\n",
      "  9.56315625e-01]\n",
      " [1.17011467e+00 1.35855527e+00 1.38452725e+00 1.33788777e+00\n",
      "  1.39845338e+00]\n",
      " [1.06056337e+00 1.04077553e+00 1.06055183e+00 9.86153058e-01\n",
      "  9.65610740e-01]\n",
      " [6.68289208e-01 7.11553471e-01 7.13050035e-01 5.31426740e-01\n",
      "  6.09325365e-01]\n",
      " [9.76161137e-01 8.43303796e-01 1.00915021e+00 1.03960229e+00\n",
      "  8.22829907e-01]\n",
      " [5.62545964e-04 9.94427785e-01 5.11791538e-04 2.42092512e-03\n",
      "  2.07695255e-03]]\n",
      "########################\n",
      "Iter: 18, Obj: 41.522630785129586,new probs: [[8.95691928e-01 9.89472655e-01 1.03559764e+00 9.96362181e-01\n",
      "  1.10994446e+00]\n",
      " [9.11157966e-01 9.32669847e-01 7.75009632e-01 9.19159768e-01\n",
      "  8.18120149e-01]\n",
      " [7.48669943e-01 7.90337459e-01 6.57807656e-01 7.56207185e-01\n",
      "  6.87274413e-01]\n",
      " [8.60128609e-01 9.11521603e-01 9.07103334e-01 1.04567854e+00\n",
      "  1.11643660e+00]\n",
      " [7.53696453e-01 7.68387729e-01 9.14409608e-01 8.73449760e-01\n",
      "  9.00377946e-01]\n",
      " [1.42244678e+00 1.31780916e+00 1.33202242e+00 1.33692423e+00\n",
      "  1.31113244e+00]\n",
      " [8.88134326e-01 9.98440633e-01 8.53073254e-01 1.09219310e+00\n",
      "  9.97314407e-01]\n",
      " [4.84168683e-01 6.74738157e-01 5.44997641e-01 4.67626334e-01\n",
      "  5.63274941e-01]\n",
      " [9.46392451e-01 9.10684813e-01 1.07748464e+00 9.73365575e-01\n",
      "  1.07456374e+00]\n",
      " [2.15975033e-05 9.99229469e-01 6.22981600e-04 4.95761999e-05\n",
      "  7.63755209e-05]]\n",
      "########################\n",
      "Iter: 19, Obj: 42.498622141081206,new probs: [[1.00690778e+00 9.48210046e-01 8.71220619e-01 1.02628311e+00\n",
      "  9.31582606e-01]\n",
      " [9.10248507e-01 9.28500313e-01 1.09213872e+00 9.01885282e-01\n",
      "  8.51056657e-01]\n",
      " [6.43328699e-01 8.90889799e-01 7.27408454e-01 6.45171946e-01\n",
      "  8.53638940e-01]\n",
      " [1.06847021e+00 9.71230595e-01 8.32142705e-01 1.01078436e+00\n",
      "  8.20527280e-01]\n",
      " [1.02285206e+00 7.66794885e-01 8.76182969e-01 9.78177496e-01\n",
      "  8.55264013e-01]\n",
      " [1.31110537e+00 1.52874509e+00 1.39329908e+00 1.30901266e+00\n",
      "  1.44206470e+00]\n",
      " [1.06335551e+00 1.22950530e+00 1.09919086e+00 1.10683785e+00\n",
      "  1.00060877e+00]\n",
      " [3.72924257e-01 7.87476259e-01 4.68840318e-01 6.23854067e-01\n",
      "  5.91387441e-01]\n",
      " [8.95305602e-01 8.50038544e-01 8.11999923e-01 9.62339615e-01\n",
      "  9.34850544e-01]\n",
      " [1.02733365e-03 9.91800355e-01 2.78222010e-03 1.99791246e-03\n",
      "  2.39217923e-03]]\n",
      "########################\n",
      "Iter: 20, Obj: 40.91910649801055,new probs: [[9.20840871e-01 1.11744083e+00 9.69701110e-01 8.98179632e-01\n",
      "  1.01207565e+00]\n",
      " [7.69426419e-01 8.18326808e-01 8.54649712e-01 9.70346381e-01\n",
      "  8.46009283e-01]\n",
      " [7.36890113e-01 6.90315042e-01 6.92768875e-01 7.49128390e-01\n",
      "  6.43284196e-01]\n",
      " [8.05165253e-01 1.07927827e+00 9.67316914e-01 8.06741787e-01\n",
      "  1.09840300e+00]\n",
      " [7.44645797e-01 9.57835791e-01 9.98210294e-01 9.47639699e-01\n",
      "  1.03339176e+00]\n",
      " [1.45009705e+00 1.33808482e+00 1.27466178e+00 1.41697440e+00\n",
      "  1.21260863e+00]\n",
      " [8.20929407e-01 1.06483402e+00 1.15892893e+00 9.40858194e-01\n",
      "  1.16006023e+00]\n",
      " [7.04529388e-01 4.91813775e-01 6.72259560e-01 4.27466300e-01\n",
      "  4.11422666e-01]\n",
      " [8.62055791e-01 8.44512822e-01 1.08004461e+00 8.88522190e-01\n",
      "  9.48744002e-01]\n",
      " [1.35250435e-03 9.43103483e-01 1.77186285e-02 2.02475756e-02\n",
      "  1.75778087e-02]]\n",
      "########################\n"
     ]
    }
   ],
   "source": [
    "# ps = np.zeros((len(points), len(centers)))\n",
    "# for i in range(len(points)):\n",
    "#   ps[i] = np.random.dirichlet(np.ones(len(centers)),size=1)[0]\n",
    "precisions, recalls, accs = [], [], []\n",
    "convs = []\n",
    "ps = get_points_centers_prob(points, centers)\n",
    "\n",
    "# print('initial probs:', ps)\n",
    "\n",
    "ITER = 20\n",
    "pre_ps = ps\n",
    "for i in range(ITER):\n",
    "    for j, c in enumerate(centers):\n",
    "        c.update(points, np.asarray(ps[:,j]).reshape(-1)/np.sum(np.asarray(ps[:,j]).reshape(-1)))\n",
    "    ps = get_points_centers_prob(points, centers)\n",
    "    precision, recall, acc = get_precision_recall(ps)\n",
    "    convergence = get_convergence(ps,pre_ps)\n",
    "    pre_ps = ps\n",
    "    convs.append(convergence)\n",
    "    precisions.append(precision)\n",
    "    recalls.append(recall)\n",
    "    accs.append(acc)\n",
    "    print('Iter: {}, Obj: {},new probs: {}'.format(i+1, get_objective_function(points, centers, ps), ps))\n",
    "    print('########################')"
   ]
  },
  {
   "cell_type": "code",
   "execution_count": 12,
   "metadata": {
    "colab": {
     "base_uri": "https://localhost:8080/",
     "height": 763
    },
    "colab_type": "code",
    "id": "kQkPDWALziRn",
    "outputId": "ec9f8648-765f-4599-e732-a8cf5b1be707"
   },
   "outputs": [
    {
     "data": {
      "image/png": "[encoded data removed]",
      "text/plain": [
       "<Figure size 432x288 with 1 Axes>"
      ]
     },
     "metadata": {
      "needs_background": "light"
     },
     "output_type": "display_data"
    },
    {
     "data": {
      "image/png": "[encoded data removed]",
      "text/plain": [
       "<Figure size 432x288 with 1 Axes>"
      ]
     },
     "metadata": {
      "needs_background": "light"
     },
     "output_type": "display_data"
    },
    {
     "data": {
      "image/png": "[encoded data removed]",
      "text/plain": [
       "<Figure size 432x288 with 1 Axes>"
      ]
     },
     "metadata": {
      "needs_background": "light"
     },
     "output_type": "display_data"
    }
   ],
   "source": [
    "plt.plot(np.arange(0,len(precisions)),precisions)\n",
    "plt.show()\n",
    "plt.plot(np.arange(0,len(recalls)),recalls)\n",
    "plt.show()\n",
    "plt.plot(np.arange(0,len(accs)),accs)\n",
    "plt.show()"
   ]
  },
  {
   "cell_type": "code",
   "execution_count": 13,
   "metadata": {
    "colab": {
     "base_uri": "https://localhost:8080/",
     "height": 92
    },
    "colab_type": "code",
    "id": "T_PiV6hyevHU",
    "outputId": "4b039022-d1b3-43b0-b450-60b0cfde7112"
   },
   "outputs": [
    {
     "name": "stdout",
     "output_type": "stream",
     "text": [
      "[0.3076923076923077, 0.2777777777777778, 0.375, 0.3076923076923077, 0.4444444444444444, 0.3333333333333333, 0.14285714285714285, 0.2857142857142857, 0.2, 0.3333333333333333, 0.2, 0.125, 0.11764705882352941, 0.2857142857142857, 0.2857142857142857, 0.125, 0.125, 0.375, 0.16666666666666666, 0.16666666666666666]\n",
      "[0.6666666666666666, 0.8333333333333334, 1.0, 0.6666666666666666, 0.6666666666666666, 0.3333333333333333, 0.16666666666666666, 0.3333333333333333, 0.3333333333333333, 0.3333333333333333, 0.3333333333333333, 0.16666666666666666, 0.3333333333333333, 0.3333333333333333, 0.3333333333333333, 0.16666666666666666, 0.16666666666666666, 0.5, 0.3333333333333333, 0.16666666666666666]\n",
      "[0.7555555555555555, 0.6888888888888889, 0.7777777777777778, 0.7555555555555555, 0.8444444444444444, 0.8222222222222222, 0.7555555555555555, 0.8, 0.7333333333333333, 0.8222222222222222, 0.7333333333333333, 0.7333333333333333, 0.5777777777777777, 0.8, 0.8, 0.7333333333333333, 0.7333333333333333, 0.8222222222222222, 0.6888888888888889, 0.7777777777777778]\n",
      "[0.003320315990284817, 0.002720285751391841, 0.004631384550515153, 0.0007810418572267515, 0.0009065945471484891, 0.0005271760697288519, 0.0046747186215082386, 0.000985507987308531, 0.000109782907607402, 0.00011114578057638786, 0.00023425662832921024, 0.000975051813005001, 0.00031668021636070264, 0.0005551995197536391, 0.0003308882284631855, 7.72997821514475e-05, 0.0002363465207570563, 0.00011119006116725415, 0.0009094591634697391, 0.0003251706987201909]\n"
     ]
    }
   ],
   "source": [
    "print(precisions)\n",
    "print(recalls)\n",
    "print(accs)\n",
    "print(convs)"
   ]
  },
  {
   "cell_type": "code",
   "execution_count": 14,
   "metadata": {},
   "outputs": [
    {
     "data": {
      "text/plain": [
       "[<matplotlib.lines.Line2D at 0x7f910c468400>]"
      ]
     },
     "execution_count": 14,
     "metadata": {},
     "output_type": "execute_result"
    },
    {
     "data": {
      "image/png": "[encoded data removed]",
      "text/plain": [
       "<Figure size 432x288 with 1 Axes>"
      ]
     },
     "metadata": {
      "needs_background": "light"
     },
     "output_type": "display_data"
    }
   ],
   "source": [
    "plt.plot(np.arange(len(convs)), convs)"
   ]
  },
  {
   "cell_type": "code",
   "execution_count": 15,
   "metadata": {
    "colab": {
     "base_uri": "https://localhost:8080/",
     "height": 199
    },
    "colab_type": "code",
    "id": "QVqDXrI2K5lF",
    "outputId": "90415164-fc57-4b75-f6d3-21795cc42df0"
   },
   "outputs": [
    {
     "name": "stdout",
     "output_type": "stream",
     "text": [
      "point_init : 0:00:00.003429 , 10\n",
      "point_get_sample : 0:00:00.267117 , 4152\n",
      "point_get_prob : 0:00:09.410682 , 26300\n",
      "center_init : 0:00:00.000004 , 5\n",
      "center_get_sample : 0:00:00.000254 , 1\n",
      "center_get_prob : 0:00:07.648228 , 3450\n",
      "center_update : 0:00:00.000105 , 100\n",
      "get_KL : 0:00:09.932287 , 4150\n",
      "get_points_centers_prob : 0:00:04.928520 , 51\n",
      "get_objective_function : 0:00:04.920795 , 50\n"
     ]
    }
   ],
   "source": [
    "for k,v in profile.items():\n",
    "    res = timedelta(0)\n",
    "    for v2 in v:\n",
    "        res += v2\n",
    "    print(k,':', res, ',', len(v))"
   ]
  },
  {
   "cell_type": "code",
   "execution_count": 16,
   "metadata": {
    "colab": {
     "base_uri": "https://localhost:8080/",
     "height": 809
    },
    "colab_type": "code",
    "id": "503vmUkKb9Wc",
    "outputId": "2b5e451d-dfed-4b04-e656-d746e237b930"
   },
   "outputs": [
    {
     "data": {
      "image/png": "[encoded data removed]",
      "text/plain": [
       "<Figure size 432x288 with 1 Axes>"
      ]
     },
     "metadata": {
      "needs_background": "light"
     },
     "output_type": "display_data"
    },
    {
     "data": {
      "image/png": "[encoded data removed]",
      "text/plain": [
       "<Figure size 432x288 with 1 Axes>"
      ]
     },
     "metadata": {
      "needs_background": "light"
     },
     "output_type": "display_data"
    },
    {
     "data": {
      "image/png": "[encoded data removed]",
      "text/plain": [
       "<Figure size 432x288 with 1 Axes>"
      ]
     },
     "metadata": {
      "needs_background": "light"
     },
     "output_type": "display_data"
    }
   ],
   "source": [
    "for i, c in enumerate(initial_centers):\n",
    "    c_samples = c.get_sample(1000)\n",
    "    if c_samples.shape[1] == 1:\n",
    "        plt.hist(c_samples[:,0], bins=30)\n",
    "    elif c_samples.shape[1] == 2:\n",
    "        plt.scatter(c_samples[:,0],c_samples[:,1])\n",
    "    plt.title('Center:' + str(i+1))\n",
    "    plt.show()"
   ]
  },
  {
   "cell_type": "code",
   "execution_count": 5,
   "metadata": {
    "colab": {},
    "colab_type": "code",
    "id": "uBDF2CQjBSOl"
   },
   "outputs": [],
   "source": [
    "import pandas as pd\n",
    "\n",
    "true_clusters = pd.read_csv('dataset/movement/groups/MovementAAL_Paths.csv')[' path_ID'].to_numpy().tolist()\n",
    "raw_points = []\n",
    "for i in range(1,315):\n",
    "    x = pd.read_csv('dataset/movement/dataset/MovementAAL_RSS_' + str(i) + '.csv').to_numpy()\n",
    "    raw_points.append(x)"
   ]
  },
  {
   "cell_type": "code",
   "execution_count": 3,
   "metadata": {
    "colab": {},
    "colab_type": "code",
    "id": "ZxC1Z4FpiWhL"
   },
   "outputs": [],
   "source": [
    "import random\n",
    "combined = list(zip(raw_points, true_clusters))\n",
    "random.shuffle(combined)\n",
    "raw_points, true_clusters = zip(*combined)"
   ]
  },
  {
   "cell_type": "code",
   "execution_count": 25,
   "metadata": {
    "colab": {
     "base_uri": "https://localhost:8080/",
     "height": 35
    },
    "colab_type": "code",
    "id": "7dydarz_ss1S",
    "outputId": "4a530dbb-7964-443c-bc7b-f928db41fa5e"
   },
   "outputs": [
    {
     "data": {
      "text/plain": [
       "314"
      ]
     },
     "execution_count": 25,
     "metadata": {},
     "output_type": "execute_result"
    }
   ],
   "source": [
    "len(raw_points)"
   ]
  },
  {
   "cell_type": "code",
   "execution_count": null,
   "metadata": {},
   "outputs": [],
   "source": []
  }
 ],
 "metadata": {
  "colab": {
   "collapsed_sections": [],
   "name": "DNBS Project.ipynb",
   "provenance": [],
   "toc_visible": true
  },
  "kernelspec": {
   "display_name": "Python 3",
   "language": "python",
   "name": "python3"
  },
  "language_info": {
   "codemirror_mode": {
    "name": "ipython",
    "version": 3
   },
   "file_extension": ".py",
   "mimetype": "text/x-python",
   "name": "python",
   "nbconvert_exporter": "python",
   "pygments_lexer": "ipython3",
   "version": "3.7.3"
  }
 },
 "nbformat": 4,
 "nbformat_minor": 1
}
